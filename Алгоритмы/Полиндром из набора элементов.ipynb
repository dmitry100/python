{
 "cells": [
  {
   "cell_type": "code",
   "execution_count": null,
   "id": "991c6d74",
   "metadata": {},
   "outputs": [],
   "source": [
    "Дана строка, определить можно ли перестановкой символов сделать из нее полиндром.\n",
    "шалаш - шш аа л\n",
    "abbcbba\n",
    "[A,B,A, A, B, H] = True\n",
    "\n",
    "[A,B,A, A] = False"
   ]
  },
  {
   "cell_type": "code",
   "execution_count": null,
   "id": "2d3ca355",
   "metadata": {},
   "outputs": [],
   "source": [
    "def polyndrom(spisok:list) -> bool:\n",
    "    cnt={}\n",
    "    for i in spisok: #создаем словарь из элементов списка. если элемента нет, то присваиваем 1, если есть +1\n",
    "        if i in cnt:\n",
    "            cnt[i]+=1\n",
    "        else:\n",
    "            cnt[i]=1\n",
    "        \n",
    "    count =0\n",
    "    \n",
    "    #кол-во нечетных значений должно быть не больше 1 т.к. если 1 символ, то справа и слева пары, \n",
    "    #если ноль, то просто пары без центра\n",
    "    \n",
    "    for i in cnt.values():\n",
    "        count+= i % 2\n",
    "        \n",
    "    if count <=1:\n",
    "        return True\n",
    "    else:\n",
    "        return False"
   ]
  },
  {
   "cell_type": "code",
   "execution_count": null,
   "id": "a0fb966e",
   "metadata": {},
   "outputs": [],
   "source": [
    "polyndrom(['ш','а','л','л','а','ш'])"
   ]
  }
 ],
 "metadata": {
  "kernelspec": {
   "display_name": "Python 3 (ipykernel)",
   "language": "python",
   "name": "python3"
  },
  "language_info": {
   "codemirror_mode": {
    "name": "ipython",
    "version": 3
   },
   "file_extension": ".py",
   "mimetype": "text/x-python",
   "name": "python",
   "nbconvert_exporter": "python",
   "pygments_lexer": "ipython3",
   "version": "3.11.3"
  }
 },
 "nbformat": 4,
 "nbformat_minor": 5
}
