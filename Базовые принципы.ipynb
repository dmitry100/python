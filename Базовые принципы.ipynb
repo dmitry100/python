{
 "cells": [
  {
   "cell_type": "markdown",
   "id": "0a9593f5",
   "metadata": {},
   "source": [
    " * Данные лежат в оперативной памяти ПК\n",
    "\n",
    " * Объекты - это представление данных. Абстракция для данных. \n",
    "     Объекты - это коробки на складе (оперативной памяти). Мы содаем \"коробки\" с 1, 2, списком или текстом\n",
    "    Данные сначала поместим в коробку, а потом на склад. Объект - это некоторый контейнер в памяти, который содержит данные\n",
    "\n",
    " * Все данные представлены объектами и отношениями между объектами"
   ]
  },
  {
   "cell_type": "code",
   "execution_count": 10,
   "id": "771a76cb",
   "metadata": {},
   "outputs": [],
   "source": [
    "a = 1\n",
    "b = 2 \n",
    "c = [a, b]"
   ]
  },
  {
   "cell_type": "markdown",
   "id": "7721c559",
   "metadata": {},
   "source": [
    "мы храним объекты 1, 2 и список. А также отношения: мы знаем, что в списке есть а и b, список ссылается на них"
   ]
  },
  {
   "cell_type": "code",
   "execution_count": 11,
   "id": "9cbfca10",
   "metadata": {},
   "outputs": [
    {
     "data": {
      "text/plain": [
       "[1, 2]"
      ]
     },
     "execution_count": 11,
     "metadata": {},
     "output_type": "execute_result"
    }
   ],
   "source": [
    "c"
   ]
  },
  {
   "cell_type": "markdown",
   "id": "b7ea5918",
   "metadata": {},
   "source": [
    "Объекты отличаются, у каждого есть 3 основных признака:\n",
    "* идентификатор\n",
    "* тип\n",
    "* значение\n",
    "    "
   ]
  }
 ],
 "metadata": {
  "kernelspec": {
   "display_name": "Python 3 (ipykernel)",
   "language": "python",
   "name": "python3"
  },
  "language_info": {
   "codemirror_mode": {
    "name": "ipython",
    "version": 3
   },
   "file_extension": ".py",
   "mimetype": "text/x-python",
   "name": "python",
   "nbconvert_exporter": "python",
   "pygments_lexer": "ipython3",
   "version": "3.11.3"
  }
 },
 "nbformat": 4,
 "nbformat_minor": 5
}
